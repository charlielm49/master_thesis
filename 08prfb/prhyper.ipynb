{
 "cells": [
  {
   "cell_type": "code",
   "execution_count": 1,
   "metadata": {
    "collapsed": true
   },
   "outputs": [],
   "source": [
    "import numpy as np\n",
    "import networkx as nx"
   ]
  },
  {
   "cell_type": "code",
   "execution_count": 2,
   "metadata": {
    "collapsed": true
   },
   "outputs": [],
   "source": [
    "H = np.matrix('1 0 0; 1 1 0; 0 1 0; 0 1 1; 0 0 1')"
   ]
  },
  {
   "cell_type": "code",
   "execution_count": 4,
   "metadata": {
    "collapsed": false
   },
   "outputs": [],
   "source": [
    "Dv = np.matrix('1 0 0 0 0; \\\n",
    "               0 0.5 0 0 0; \\\n",
    "               0 0 1 0 0; \\\n",
    "               0 0 0 0.5 0;\\\n",
    "               0 0 0 0 1\\\n",
    "               ')"
   ]
  },
  {
   "cell_type": "code",
   "execution_count": 13,
   "metadata": {
    "collapsed": false
   },
   "outputs": [
    {
     "data": {
      "text/plain": [
       "matrix([[ 1. ,  0. ,  0. ,  0. ,  0. ],\n",
       "        [ 0. ,  0.5,  0. ,  0. ,  0. ],\n",
       "        [ 0. ,  0. ,  1. ,  0. ,  0. ],\n",
       "        [ 0. ,  0. ,  0. ,  0.5,  0. ],\n",
       "        [ 0. ,  0. ,  0. ,  0. ,  1. ]])"
      ]
     },
     "execution_count": 13,
     "metadata": {},
     "output_type": "execute_result"
    }
   ],
   "source": [
    "Dv"
   ]
  },
  {
   "cell_type": "code",
   "execution_count": 6,
   "metadata": {
    "collapsed": true
   },
   "outputs": [],
   "source": [
    "Ht = H.transpose()"
   ]
  },
  {
   "cell_type": "code",
   "execution_count": 14,
   "metadata": {
    "collapsed": false
   },
   "outputs": [
    {
     "data": {
      "text/plain": [
       "matrix([[1, 1, 0, 0, 0],\n",
       "        [0, 1, 1, 1, 0],\n",
       "        [0, 0, 0, 1, 1]])"
      ]
     },
     "execution_count": 14,
     "metadata": {},
     "output_type": "execute_result"
    }
   ],
   "source": [
    "Ht"
   ]
  },
  {
   "cell_type": "code",
   "execution_count": 23,
   "metadata": {
    "collapsed": true
   },
   "outputs": [],
   "source": [
    "a = H.T"
   ]
  },
  {
   "cell_type": "code",
   "execution_count": 24,
   "metadata": {
    "collapsed": false
   },
   "outputs": [
    {
     "data": {
      "text/plain": [
       "matrix([[1, 1, 0, 0, 0],\n",
       "        [0, 1, 1, 1, 0],\n",
       "        [0, 0, 0, 1, 1]])"
      ]
     },
     "execution_count": 24,
     "metadata": {},
     "output_type": "execute_result"
    }
   ],
   "source": [
    "a"
   ]
  },
  {
   "cell_type": "code",
   "execution_count": 19,
   "metadata": {
    "collapsed": false
   },
   "outputs": [],
   "source": [
    "De = np.matrix('0.5 0 0; \\\n",
    "               0 0.333 0; \\\n",
    "               0  0 0.5 \\\n",
    "               ')"
   ]
  },
  {
   "cell_type": "code",
   "execution_count": 20,
   "metadata": {
    "collapsed": false
   },
   "outputs": [
    {
     "data": {
      "text/plain": [
       "matrix([[ 0.5  ,  0.   ,  0.   ],\n",
       "        [ 0.   ,  0.333,  0.   ],\n",
       "        [ 0.   ,  0.   ,  0.5  ]])"
      ]
     },
     "execution_count": 20,
     "metadata": {},
     "output_type": "execute_result"
    }
   ],
   "source": [
    "De"
   ]
  },
  {
   "cell_type": "code",
   "execution_count": 16,
   "metadata": {
    "collapsed": false
   },
   "outputs": [
    {
     "data": {
      "text/plain": [
       "0.3333333333333333"
      ]
     },
     "execution_count": 16,
     "metadata": {},
     "output_type": "execute_result"
    }
   ],
   "source": [
    "1./3"
   ]
  },
  {
   "cell_type": "code",
   "execution_count": 21,
   "metadata": {
    "collapsed": false
   },
   "outputs": [
    {
     "data": {
      "text/plain": [
       "matrix([[ 0.5  ,  0.5  ,  0.   ,  0.   ,  0.   ],\n",
       "        [ 0.   ,  0.333,  0.333,  0.333,  0.   ],\n",
       "        [ 0.   ,  0.   ,  0.   ,  0.5  ,  0.5  ]])"
      ]
     },
     "execution_count": 21,
     "metadata": {},
     "output_type": "execute_result"
    }
   ],
   "source": [
    "np.dot(De, Ht)"
   ]
  },
  {
   "cell_type": "code",
   "execution_count": 22,
   "metadata": {
    "collapsed": false
   },
   "outputs": [
    {
     "data": {
      "text/plain": [
       "matrix([[ 0.5  ,  0.5  ,  0.   ,  0.   ,  0.   ],\n",
       "        [ 0.   ,  0.333,  0.333,  0.333,  0.   ],\n",
       "        [ 0.   ,  0.   ,  0.   ,  0.5  ,  0.5  ]])"
      ]
     },
     "execution_count": 22,
     "metadata": {},
     "output_type": "execute_result"
    }
   ],
   "source": [
    "De.dot(Ht)"
   ]
  },
  {
   "cell_type": "code",
   "execution_count": 25,
   "metadata": {
    "collapsed": false
   },
   "outputs": [
    {
     "data": {
      "text/plain": [
       "matrix([[ 1. ,  0. ,  0. ],\n",
       "        [ 0.5,  0.5,  0. ],\n",
       "        [ 0. ,  1. ,  0. ],\n",
       "        [ 0. ,  0.5,  0.5],\n",
       "        [ 0. ,  0. ,  1. ]])"
      ]
     },
     "execution_count": 25,
     "metadata": {},
     "output_type": "execute_result"
    }
   ],
   "source": [
    "Dv.dot(H)"
   ]
  },
  {
   "cell_type": "code",
   "execution_count": 26,
   "metadata": {
    "collapsed": false
   },
   "outputs": [
    {
     "data": {
      "text/plain": [
       "matrix([[ 0.5   ,  0.5   ,  0.    ,  0.    ,  0.    ],\n",
       "        [ 0.25  ,  0.4165,  0.1665,  0.1665,  0.    ],\n",
       "        [ 0.    ,  0.333 ,  0.333 ,  0.333 ,  0.    ],\n",
       "        [ 0.    ,  0.1665,  0.1665,  0.4165,  0.25  ],\n",
       "        [ 0.    ,  0.    ,  0.    ,  0.5   ,  0.5   ]])"
      ]
     },
     "execution_count": 26,
     "metadata": {},
     "output_type": "execute_result"
    }
   ],
   "source": [
    "Dv.dot(H).dot(De.dot(Ht))"
   ]
  },
  {
   "cell_type": "code",
   "execution_count": 27,
   "metadata": {
    "collapsed": false
   },
   "outputs": [
    {
     "data": {
      "text/plain": [
       "0.9994999999999999"
      ]
     },
     "execution_count": 27,
     "metadata": {},
     "output_type": "execute_result"
    }
   ],
   "source": [
    ".25+.4165+.1665+.1665file:///home/carlos/maestria/TESIS/CODE/08prfb/comm-jup.ipynb"
   ]
  },
  {
   "cell_type": "code",
   "execution_count": 29,
   "metadata": {
    "collapsed": false
   },
   "outputs": [],
   "source": [
    "M =(Dv.dot(H).dot(De.dot(Ht))).T"
   ]
  },
  {
   "cell_type": "code",
   "execution_count": 30,
   "metadata": {
    "collapsed": false
   },
   "outputs": [
    {
     "data": {
      "text/plain": [
       "matrix([[ 0.5   ,  0.25  ,  0.    ,  0.    ,  0.    ],\n",
       "        [ 0.5   ,  0.4165,  0.333 ,  0.1665,  0.    ],\n",
       "        [ 0.    ,  0.1665,  0.333 ,  0.1665,  0.    ],\n",
       "        [ 0.    ,  0.1665,  0.333 ,  0.4165,  0.5   ],\n",
       "        [ 0.    ,  0.    ,  0.    ,  0.25  ,  0.5   ]])"
      ]
     },
     "execution_count": 30,
     "metadata": {},
     "output_type": "execute_result"
    }
   ],
   "source": [
    "M"
   ]
  },
  {
   "cell_type": "code",
   "execution_count": 35,
   "metadata": {
    "collapsed": false
   },
   "outputs": [
    {
     "name": "stdout",
     "output_type": "stream",
     "text": [
      "5\n"
     ]
    }
   ],
   "source": [
    "matSize = len(M)\n",
    "print matSize"
   ]
  },
  {
   "cell_type": "code",
   "execution_count": 36,
   "metadata": {
    "collapsed": false
   },
   "outputs": [],
   "source": [
    "newMat = [[1./matSize  for j in range(matSize)] for i in range(matSize)]"
   ]
  },
  {
   "cell_type": "code",
   "execution_count": 37,
   "metadata": {
    "collapsed": false
   },
   "outputs": [
    {
     "data": {
      "text/plain": [
       "[[0.2, 0.2, 0.2, 0.2, 0.2],\n",
       " [0.2, 0.2, 0.2, 0.2, 0.2],\n",
       " [0.2, 0.2, 0.2, 0.2, 0.2],\n",
       " [0.2, 0.2, 0.2, 0.2, 0.2],\n",
       " [0.2, 0.2, 0.2, 0.2, 0.2]]"
      ]
     },
     "execution_count": 37,
     "metadata": {},
     "output_type": "execute_result"
    }
   ],
   "source": [
    "newMat"
   ]
  },
  {
   "cell_type": "code",
   "execution_count": null,
   "metadata": {
    "collapsed": true
   },
   "outputs": [],
   "source": [
    "from numpy import linalg\n",
    "M = [[1, 0, 0], [0, 0, 1], ...]\n",
    "evalM, evecM = linalg.eig(M)\n",
    "print evalM\t\t\t\t\t\t\t# eigenvalores\n",
    ">>>[-0.85, 1.23, 0.85, 0.62, -0.85, 0.0]\n",
    "print evecM[:, 1]\n",
    ">>>[3.3, 5.0, 3.8, 1.0, 1.0, 1.0]"
   ]
  }
 ],
 "metadata": {
  "kernelspec": {
   "display_name": "Python 2",
   "language": "python",
   "name": "python2"
  },
  "language_info": {
   "codemirror_mode": {
    "name": "ipython",
    "version": 2.0
   },
   "file_extension": ".py",
   "mimetype": "text/x-python",
   "name": "python",
   "nbconvert_exporter": "python",
   "pygments_lexer": "ipython2",
   "version": "2.7.11"
  }
 },
 "nbformat": 4,
 "nbformat_minor": 0
}
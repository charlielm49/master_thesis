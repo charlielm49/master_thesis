{
 "cells": [
  {
   "cell_type": "code",
   "execution_count": 2,
   "metadata": {
    "collapsed": true
   },
   "outputs": [],
   "source": [
    "import numpy as np\n",
    "import networkx as nx\n",
    "from numpy import linalg"
   ]
  },
  {
   "cell_type": "code",
   "execution_count": 3,
   "metadata": {
    "collapsed": true
   },
   "outputs": [],
   "source": [
    "H = np.matrix('1 0 0; 1 1 0; 0 1 0; 0 1 1; 0 0 1')"
   ]
  },
  {
   "cell_type": "code",
   "execution_count": 4,
   "metadata": {
    "collapsed": false
   },
   "outputs": [],
   "source": [
    "Dv = np.matrix('1 0 0 0 0; \\\n",
    "               0 0.5 0 0 0; \\\n",
    "               0 0 1 0 0; \\\n",
    "               0 0 0 0.5 0;\\\n",
    "               0 0 0 0 1\\\n",
    "               ')"
   ]
  },
  {
   "cell_type": "code",
   "execution_count": 5,
   "metadata": {
    "collapsed": false
   },
   "outputs": [
    {
     "data": {
      "text/plain": [
       "matrix([[ 1. ,  0. ,  0. ,  0. ,  0. ],\n",
       "        [ 0. ,  0.5,  0. ,  0. ,  0. ],\n",
       "        [ 0. ,  0. ,  1. ,  0. ,  0. ],\n",
       "        [ 0. ,  0. ,  0. ,  0.5,  0. ],\n",
       "        [ 0. ,  0. ,  0. ,  0. ,  1. ]])"
      ]
     },
     "execution_count": 5,
     "metadata": {},
     "output_type": "execute_result"
    }
   ],
   "source": [
    "Dv"
   ]
  },
  {
   "cell_type": "code",
   "execution_count": 6,
   "metadata": {
    "collapsed": true
   },
   "outputs": [],
   "source": [
    "Ht = H.transpose()"
   ]
  },
  {
   "cell_type": "code",
   "execution_count": 7,
   "metadata": {
    "collapsed": false
   },
   "outputs": [
    {
     "data": {
      "text/plain": [
       "matrix([[1, 1, 0, 0, 0],\n",
       "        [0, 1, 1, 1, 0],\n",
       "        [0, 0, 0, 1, 1]])"
      ]
     },
     "execution_count": 7,
     "metadata": {},
     "output_type": "execute_result"
    }
   ],
   "source": [
    "Ht"
   ]
  },
  {
   "cell_type": "code",
   "execution_count": 8,
   "metadata": {
    "collapsed": true
   },
   "outputs": [],
   "source": [
    "a = H.T"
   ]
  },
  {
   "cell_type": "code",
   "execution_count": 9,
   "metadata": {
    "collapsed": false
   },
   "outputs": [
    {
     "data": {
      "text/plain": [
       "matrix([[1, 1, 0, 0, 0],\n",
       "        [0, 1, 1, 1, 0],\n",
       "        [0, 0, 0, 1, 1]])"
      ]
     },
     "execution_count": 9,
     "metadata": {},
     "output_type": "execute_result"
    }
   ],
   "source": [
    "a"
   ]
  },
  {
   "cell_type": "code",
   "execution_count": 10,
   "metadata": {
    "collapsed": false
   },
   "outputs": [],
   "source": [
    "De = np.matrix('0.5 0 0; \\\n",
    "               0 0.333 0; \\\n",
    "               0  0 0.5 \\\n",
    "               ')"
   ]
  },
  {
   "cell_type": "code",
   "execution_count": 11,
   "metadata": {
    "collapsed": false
   },
   "outputs": [
    {
     "data": {
      "text/plain": [
       "matrix([[ 0.5  ,  0.   ,  0.   ],\n",
       "        [ 0.   ,  0.333,  0.   ],\n",
       "        [ 0.   ,  0.   ,  0.5  ]])"
      ]
     },
     "execution_count": 11,
     "metadata": {},
     "output_type": "execute_result"
    }
   ],
   "source": [
    "De"
   ]
  },
  {
   "cell_type": "code",
   "execution_count": 12,
   "metadata": {
    "collapsed": false
   },
   "outputs": [
    {
     "data": {
      "text/plain": [
       "0.3333333333333333"
      ]
     },
     "execution_count": 12,
     "metadata": {},
     "output_type": "execute_result"
    }
   ],
   "source": [
    "1./3"
   ]
  },
  {
   "cell_type": "code",
   "execution_count": 13,
   "metadata": {
    "collapsed": false
   },
   "outputs": [
    {
     "data": {
      "text/plain": [
       "matrix([[ 0.5  ,  0.5  ,  0.   ,  0.   ,  0.   ],\n",
       "        [ 0.   ,  0.333,  0.333,  0.333,  0.   ],\n",
       "        [ 0.   ,  0.   ,  0.   ,  0.5  ,  0.5  ]])"
      ]
     },
     "execution_count": 13,
     "metadata": {},
     "output_type": "execute_result"
    }
   ],
   "source": [
    "np.dot(De, Ht)"
   ]
  },
  {
   "cell_type": "code",
   "execution_count": 14,
   "metadata": {
    "collapsed": false
   },
   "outputs": [
    {
     "data": {
      "text/plain": [
       "matrix([[ 0.5  ,  0.5  ,  0.   ,  0.   ,  0.   ],\n",
       "        [ 0.   ,  0.333,  0.333,  0.333,  0.   ],\n",
       "        [ 0.   ,  0.   ,  0.   ,  0.5  ,  0.5  ]])"
      ]
     },
     "execution_count": 14,
     "metadata": {},
     "output_type": "execute_result"
    }
   ],
   "source": [
    "De.dot(Ht)"
   ]
  },
  {
   "cell_type": "code",
   "execution_count": 15,
   "metadata": {
    "collapsed": false
   },
   "outputs": [
    {
     "data": {
      "text/plain": [
       "matrix([[ 1. ,  0. ,  0. ],\n",
       "        [ 0.5,  0.5,  0. ],\n",
       "        [ 0. ,  1. ,  0. ],\n",
       "        [ 0. ,  0.5,  0.5],\n",
       "        [ 0. ,  0. ,  1. ]])"
      ]
     },
     "execution_count": 15,
     "metadata": {},
     "output_type": "execute_result"
    }
   ],
   "source": [
    "Dv.dot(H)"
   ]
  },
  {
   "cell_type": "code",
   "execution_count": 16,
   "metadata": {
    "collapsed": false
   },
   "outputs": [
    {
     "data": {
      "text/plain": [
       "matrix([[ 0.5   ,  0.5   ,  0.    ,  0.    ,  0.    ],\n",
       "        [ 0.25  ,  0.4165,  0.1665,  0.1665,  0.    ],\n",
       "        [ 0.    ,  0.333 ,  0.333 ,  0.333 ,  0.    ],\n",
       "        [ 0.    ,  0.1665,  0.1665,  0.4165,  0.25  ],\n",
       "        [ 0.    ,  0.    ,  0.    ,  0.5   ,  0.5   ]])"
      ]
     },
     "execution_count": 16,
     "metadata": {},
     "output_type": "execute_result"
    }
   ],
   "source": [
    "Dv.dot(H).dot(De.dot(Ht))"
   ]
  },
  {
   "cell_type": "code",
   "execution_count": 17,
   "metadata": {
    "collapsed": false
   },
   "outputs": [
    {
     "data": {
      "text/plain": [
       "0.9994999999999999"
      ]
     },
     "execution_count": 17,
     "metadata": {},
     "output_type": "execute_result"
    }
   ],
   "source": [
    ".25+.4165+.1665+.1665"
   ]
  },
  {
   "cell_type": "code",
   "execution_count": 18,
   "metadata": {
    "collapsed": false
   },
   "outputs": [],
   "source": [
    "M =(Dv.dot(H).dot(De.dot(Ht))).T"
   ]
  },
  {
   "cell_type": "code",
   "execution_count": 19,
   "metadata": {
    "collapsed": false
   },
   "outputs": [
    {
     "data": {
      "text/plain": [
       "matrix([[ 0.5   ,  0.25  ,  0.    ,  0.    ,  0.    ],\n",
       "        [ 0.5   ,  0.4165,  0.333 ,  0.1665,  0.    ],\n",
       "        [ 0.    ,  0.1665,  0.333 ,  0.1665,  0.    ],\n",
       "        [ 0.    ,  0.1665,  0.333 ,  0.4165,  0.5   ],\n",
       "        [ 0.    ,  0.    ,  0.    ,  0.25  ,  0.5   ]])"
      ]
     },
     "execution_count": 19,
     "metadata": {},
     "output_type": "execute_result"
    }
   ],
   "source": [
    "M"
   ]
  },
  {
   "cell_type": "code",
   "execution_count": 20,
   "metadata": {
    "collapsed": false
   },
   "outputs": [
    {
     "name": "stdout",
     "output_type": "stream",
     "text": [
      "5\n"
     ]
    }
   ],
   "source": [
    "matSize = len(M)\n",
    "print matSize"
   ]
  },
  {
   "cell_type": "code",
   "execution_count": 21,
   "metadata": {
    "collapsed": false
   },
   "outputs": [],
   "source": [
    "teleMat = [[1./matSize  for j in range(matSize)] for i in range(matSize)]"
   ]
  },
  {
   "cell_type": "code",
   "execution_count": 22,
   "metadata": {
    "collapsed": false
   },
   "outputs": [
    {
     "data": {
      "text/plain": [
       "[[0.2, 0.2, 0.2, 0.2, 0.2],\n",
       " [0.2, 0.2, 0.2, 0.2, 0.2],\n",
       " [0.2, 0.2, 0.2, 0.2, 0.2],\n",
       " [0.2, 0.2, 0.2, 0.2, 0.2],\n",
       " [0.2, 0.2, 0.2, 0.2, 0.2]]"
      ]
     },
     "execution_count": 22,
     "metadata": {},
     "output_type": "execute_result"
    }
   ],
   "source": [
    "teleMat"
   ]
  },
  {
   "cell_type": "code",
   "execution_count": 23,
   "metadata": {
    "collapsed": false
   },
   "outputs": [
    {
     "data": {
      "text/plain": [
       "list"
      ]
     },
     "execution_count": 23,
     "metadata": {},
     "output_type": "execute_result"
    }
   ],
   "source": [
    "type(teleMat)"
   ]
  },
  {
   "cell_type": "code",
   "execution_count": 24,
   "metadata": {
    "collapsed": false
   },
   "outputs": [],
   "source": [
    "teleMat = np.matrix(teleMat)"
   ]
  },
  {
   "cell_type": "code",
   "execution_count": 26,
   "metadata": {
    "collapsed": true
   },
   "outputs": [],
   "source": [
    "MH2 = 0.85 * M + 0.15 * teleMat"
   ]
  },
  {
   "cell_type": "code",
   "execution_count": 27,
   "metadata": {
    "collapsed": false
   },
   "outputs": [
    {
     "name": "stdout",
     "output_type": "stream",
     "text": [
      "[  9.99641470e-01 +0.00000000e+00j   6.37500000e-01 +0.00000000e+00j\n",
      "   3.53958530e-01 +0.00000000e+00j  -1.16608786e-17 +2.32327558e-17j\n",
      "  -1.16608786e-17 -2.32327558e-17j] \n",
      "\n",
      "[[  3.27930869e-01 +0.00000000e+00j   5.00000000e-01 +0.00000000e+00j\n",
      "    4.99801610e-01 +0.00000000e+00j  -3.36792671e-01 +1.11022302e-16j\n",
      "   -3.36792671e-01 -1.11022302e-16j]\n",
      " [  5.84046528e-01 +0.00000000e+00j   5.00000000e-01 +0.00000000e+00j\n",
      "   -1.66935208e-01 +0.00000000e+00j   6.73585342e-01 +0.00000000e+00j\n",
      "    6.73585342e-01 -0.00000000e+00j]\n",
      " [  3.20471522e-01 +0.00000000e+00j  -5.93205949e-16 +0.00000000e+00j\n",
      "   -6.66829794e-01 +0.00000000e+00j  -4.48507750e-01 +1.67974694e-01j\n",
      "   -4.48507750e-01 -1.67974694e-01j]\n",
      " [  5.84046528e-01 +0.00000000e+00j  -5.00000000e-01 +0.00000000e+00j\n",
      "   -1.66935208e-01 +0.00000000e+00j   2.23430158e-01 -3.35949388e-01j\n",
      "    2.23430158e-01 +3.35949388e-01j]\n",
      " [  3.27930869e-01 +0.00000000e+00j  -5.00000000e-01 +0.00000000e+00j\n",
      "    4.99801610e-01 +0.00000000e+00j  -1.11715079e-01 +1.67974694e-01j\n",
      "   -1.11715079e-01 -1.67974694e-01j]]\n"
     ]
    }
   ],
   "source": [
    "evalM, evecM = linalg.eig(MH2)\n",
    "print evalM, \"\\n\"\n",
    "print evecM"
   ]
  },
  {
   "cell_type": "code",
   "execution_count": null,
   "metadata": {
    "collapsed": true
   },
   "outputs": [],
   "source": [
    "from numpy import linalg\n",
    "M = [[1, 0, 0], [0, 0, 1], ...]\n",
    "evalM, evecM = linalg.eig(M)\n",
    "print evalM\t\t\t\t\t\t\t# eigenvalores\n",
    ">>>[-0.85, 1.23, 0.85, 0.62, -0.85, 0.0]\n",
    "print evecM[:, 1]\n",
    ">>>[3.3, 5.0, 3.8, 1.0, 1.0, 1.0]"
   ]
  }
 ],
 "metadata": {
  "kernelspec": {
   "display_name": "Python 2",
   "language": "python",
   "name": "python2"
  },
  "language_info": {
   "codemirror_mode": {
    "name": "ipython",
    "version": 2
   },
   "file_extension": ".py",
   "mimetype": "text/x-python",
   "name": "python",
   "nbconvert_exporter": "python",
   "pygments_lexer": "ipython2",
   "version": "2.7.11"
  }
 },
 "nbformat": 4,
 "nbformat_minor": 0
}
